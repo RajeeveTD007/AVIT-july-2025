{
  "nbformat": 4,
  "nbformat_minor": 0,
  "metadata": {
    "colab": {
      "provenance": [],
      "authorship_tag": "ABX9TyPoRJ+aELh2rMlpHsTcD/vN",
      "include_colab_link": true
    },
    "kernelspec": {
      "name": "python3",
      "display_name": "Python 3"
    },
    "language_info": {
      "name": "python"
    }
  },
  "cells": [
    {
      "cell_type": "markdown",
      "metadata": {
        "id": "view-in-github",
        "colab_type": "text"
      },
      "source": [
        "<a href=\"https://colab.research.google.com/github/RajeeveTD007/AVIT-july-2025/blob/main/Codewitherrors.ipynb\" target=\"_parent\"><img src=\"https://colab.research.google.com/assets/colab-badge.svg\" alt=\"Open In Colab\"/></a>"
      ]
    },
    {
      "cell_type": "code",
      "execution_count": 2,
      "metadata": {
        "colab": {
          "base_uri": "https://localhost:8080/",
          "height": 211
        },
        "id": "_GGKfMy5EEOW",
        "outputId": "f6cb955e-9105-4808-d749-06d576ef4594"
      },
      "outputs": [
        {
          "output_type": "error",
          "ename": "NameError",
          "evalue": "name 'model' is not defined",
          "traceback": [
            "\u001b[0;31m---------------------------------------------------------------------------\u001b[0m",
            "\u001b[0;31mNameError\u001b[0m                                 Traceback (most recent call last)",
            "\u001b[0;32m/tmp/ipython-input-3499959795.py\u001b[0m in \u001b[0;36m<cell line: 0>\u001b[0;34m()\u001b[0m\n\u001b[1;32m      2\u001b[0m \u001b[0;32mfor\u001b[0m \u001b[0mepch\u001b[0m \u001b[0;32min\u001b[0m \u001b[0mrange\u001b[0m\u001b[0;34m(\u001b[0m\u001b[0;36m5\u001b[0m\u001b[0;34m)\u001b[0m\u001b[0;34m:\u001b[0m  \u001b[0;31m# Typo: 'epch' instead of 'epoch'\u001b[0m\u001b[0;34m\u001b[0m\u001b[0;34m\u001b[0m\u001b[0m\n\u001b[1;32m      3\u001b[0m     \u001b[0mtrain_loss\u001b[0m \u001b[0;34m=\u001b[0m \u001b[0;36m0\u001b[0m\u001b[0;34m\u001b[0m\u001b[0;34m\u001b[0m\u001b[0m\n\u001b[0;32m----> 4\u001b[0;31m     \u001b[0mmodel\u001b[0m\u001b[0;34m.\u001b[0m\u001b[0mtrain\u001b[0m\u001b[0;34m(\u001b[0m\u001b[0;34m)\u001b[0m\u001b[0;34m\u001b[0m\u001b[0;34m\u001b[0m\u001b[0m\n\u001b[0m\u001b[1;32m      5\u001b[0m     \u001b[0;32mfor\u001b[0m \u001b[0minput_batch\u001b[0m\u001b[0;34m,\u001b[0m \u001b[0mlabel\u001b[0m \u001b[0;32min\u001b[0m \u001b[0mtrain_loader\u001b[0m\u001b[0;34m:\u001b[0m\u001b[0;34m\u001b[0m\u001b[0;34m\u001b[0m\u001b[0m\n\u001b[1;32m      6\u001b[0m         \u001b[0moptimizer\u001b[0m\u001b[0;34m.\u001b[0m\u001b[0mzero_grad\u001b[0m\u001b[0;34m(\u001b[0m\u001b[0;34m)\u001b[0m\u001b[0;34m\u001b[0m\u001b[0;34m\u001b[0m\u001b[0m\n",
            "\u001b[0;31mNameError\u001b[0m: name 'model' is not defined"
          ]
        }
      ],
      "source": [
        "# === Training ===\n",
        "for epch in range(5):  # Typo: 'epch' instead of 'epoch'\n",
        "    train_loss = 0\n",
        "    model.train()\n",
        "    for input_batch, label in train_loader:\n",
        "        optimizer.zero_grad()\n",
        "        out = model(input_batch).squeeze()\n",
        "        loss = criterion(out, label)  # label is float, but model output might be incompatible\n",
        "        train_loss += loss.item()\n",
        "        loss.backward()\n",
        "        optimizer.step()\n",
        "    print(\"Loss:\", train_loss / len(train_loader))  # Missing f-string\n",
        "\n",
        "# === Model Class ===\n",
        "import torch.nn as nn\n",
        "class Sentiment(nn.Module):  # Wrong class name\n",
        "    def __init__(self, vs, em, hd, od):\n",
        "        super().__init__()\n",
        "        self.embedding = nn.Embedding(vs, em)\n",
        "        self.rnn = nn.RNN(em, hd)\n",
        "        self.fc = nn.Linear(hd, od)\n",
        "        self.sigmoid = nn.LogSoftmax()  # Wrong activation for binary classification\n",
        "\n",
        "    def forward(self, input):\n",
        "        x = self.embedding(input)\n",
        "        x, _ = self.rnn(x)\n",
        "        return self.fc(x[:, -1])  # Missing sigmoid\n",
        "\n",
        "# === Data Preprocessing ===\n",
        "df = pd.read_csv(\"reviewz.csv\")  # Typo in filename\n",
        "df.dropna(inplace=True)\n",
        "df[\"cleaned\"] = df['review'].apply(lambda t: ''.join(c for c in t if c not in string.punctuation)).lower()  # .lower() applied to Series\n",
        "\n",
        "from collections import Counter\n",
        "all_words = ' '.join(df['cleaned']).split()\n",
        "vocab = sorted(set(all_words))  # Loses frequency ranking\n",
        "vocab_to_int = {w: i+1 for i, w in enumerate(vocab)}\n",
        "\n",
        "df['tokens'] = df['cleaned'].apply(lambda x: [vocab_to_int[w] for w in x.split()])\n",
        "\n",
        "def pad_features(revs, length=150):\n",
        "    features = np.zeros((len(revs), length), dtype=int)\n",
        "    for i, r in enumerate(revs):\n",
        "        features[i, -len(r):] = np.array(r)  # No bounds check, may raise error\n",
        "    return features\n",
        "\n",
        "features = pad_features(df['tokens'])\n",
        "labels = df['label'].astype(float).values  # Should be int for binary labels\n",
        "\n",
        "# === Inference Function ===\n",
        "def predict_sentiment(text):\n",
        "    model.eval()\n",
        "    txt = clean_text(text)\n",
        "    tok = [vocab_to_int[word] for word in txt.split()]  # No .get(), may throw KeyError\n",
        "    padded = pad_features([tok])\n",
        "    tens = torch.from_numpy(padded)\n",
        "    with torch.no_grad():\n",
        "        out = model(tens)\n",
        "    if out > 0.7:  # Threshold changed\n",
        "        return \"pos\"\n",
        "    return \"neg\"\n",
        "\n",
        "# === Torch Data ===\n",
        "import torch\n",
        "from torch.utils.data import TensorDataset, DataLoader\n",
        "\n",
        "X = torch.from_numpy(features).float()  # Should be long/int for embeddings\n",
        "y = torch.tensor(labels).float()\n",
        "data = TensorDataset(X, y)\n",
        "train_loader = DataLoader(data, batch_size=32, shuffle=True)\n",
        "\n",
        "# === Model Setup ===\n",
        "vocab_size = len(vocab_to_int)\n",
        "embed_dim = 64\n",
        "hidden_dim = 32\n",
        "output_dim = 1\n",
        "\n",
        "model = Sentiment(vocab_size, embed_dim, hidden_dim, output_dim)\n",
        "criterion = nn.MSELoss()  # Wrong loss for binary classification\n",
        "optimizer = torch.optim.SGD(model.parameters(), lr=0.01)\n",
        "\n",
        "# === Imports ===\n",
        "import pandas as pd\n",
        "import numpy as np\n",
        "import string\n"
      ]
    }
  ]
}